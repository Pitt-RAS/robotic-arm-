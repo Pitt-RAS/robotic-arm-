{
 "cells": [
  {
   "cell_type": "code",
   "execution_count": 1,
   "id": "2c25fa1f",
   "metadata": {},
   "outputs": [
    {
     "data": {
      "text/html": [
       "<div id=\"glowscript\" class=\"glowscript\"></div>"
      ],
      "text/plain": [
       "<IPython.core.display.HTML object>"
      ]
     },
     "metadata": {},
     "output_type": "display_data"
    },
    {
     "data": {
      "application/javascript": [
       "if (typeof Jupyter !== \"undefined\") { window.__context = { glowscript_container: $(\"#glowscript\").removeAttr(\"id\")};}else{ element.textContent = ' ';}"
      ],
      "text/plain": [
       "<IPython.core.display.Javascript object>"
      ]
     },
     "metadata": {},
     "output_type": "display_data"
    },
    {
     "data": {
      "text/html": [
       "<div id=\"glowscript\" class=\"glowscript\"></div>"
      ],
      "text/plain": [
       "<IPython.core.display.HTML object>"
      ]
     },
     "metadata": {},
     "output_type": "display_data"
    },
    {
     "data": {
      "application/javascript": [
       "if (typeof Jupyter !== \"undefined\") { window.__context = { glowscript_container: $(\"#glowscript\").removeAttr(\"id\")};}else{ element.textContent = ' ';}"
      ],
      "text/plain": [
       "<IPython.core.display.Javascript object>"
      ]
     },
     "metadata": {},
     "output_type": "display_data"
    },
    {
     "data": {
      "application/javascript": [
       "if (typeof Jupyter !== \"undefined\") {require.undef(\"nbextensions/vpython_libraries/glow.min\");}else{element.textContent = ' ';}"
      ],
      "text/plain": [
       "<IPython.core.display.Javascript object>"
      ]
     },
     "metadata": {},
     "output_type": "display_data"
    },
    {
     "data": {
      "application/javascript": [
       "if (typeof Jupyter !== \"undefined\") {require.undef(\"nbextensions/vpython_libraries/glowcomm\");}else{element.textContent = ' ';}"
      ],
      "text/plain": [
       "<IPython.core.display.Javascript object>"
      ]
     },
     "metadata": {},
     "output_type": "display_data"
    },
    {
     "data": {
      "application/javascript": [
       "if (typeof Jupyter !== \"undefined\") {require.undef(\"nbextensions/vpython_libraries/jquery-ui.custom.min\");}else{element.textContent = ' ';}"
      ],
      "text/plain": [
       "<IPython.core.display.Javascript object>"
      ]
     },
     "metadata": {},
     "output_type": "display_data"
    },
    {
     "data": {
      "application/javascript": [
       "if (typeof Jupyter !== \"undefined\") {require([\"nbextensions/vpython_libraries/glow.min\"], function(){console.log(\"GLOW LOADED\");});}else{element.textContent = ' ';}"
      ],
      "text/plain": [
       "<IPython.core.display.Javascript object>"
      ]
     },
     "metadata": {},
     "output_type": "display_data"
    },
    {
     "data": {
      "application/javascript": [
       "if (typeof Jupyter !== \"undefined\") {require([\"nbextensions/vpython_libraries/glowcomm\"], function(){console.log(\"GLOWCOMM LOADED\");});}else{element.textContent = ' ';}"
      ],
      "text/plain": [
       "<IPython.core.display.Javascript object>"
      ]
     },
     "metadata": {},
     "output_type": "display_data"
    },
    {
     "data": {
      "application/javascript": [
       "if (typeof Jupyter !== \"undefined\") {require([\"nbextensions/vpython_libraries/jquery-ui.custom.min\"], function(){console.log(\"JQUERY LOADED\");});}else{element.textContent = ' ';}"
      ],
      "text/plain": [
       "<IPython.core.display.Javascript object>"
      ]
     },
     "metadata": {},
     "output_type": "display_data"
    },
    {
     "name": "stdout",
     "output_type": "stream",
     "text": [
      "<vpython.vpython.compound object at 0x000001E126391B50>\n",
      "Enter a x-position and a y-position: 100 100\n",
      "<0, 23.6114, 153.345>\n",
      "43.02677772979146\n",
      "86.07782691378553\n"
     ]
    },
    {
     "data": {
      "text/plain": [
       "'    \\n    count = 0\\n    while(count < 90):\\n        rate(30)\\n        robot.rotate(1,1)\\n        robot.rotate(2,1)\\n       # robot.rotate(3,-1)\\n        count+=1\\n\\n    count = 0\\n    while(count < 90):\\n        rate(30)\\n        robot.rotate(1,-1)\\n        robot.translate(count)\\n        count+=1\\n\\n    count = 0\\n    while(count < 45):\\n        rate(30)\\n        robot.rotate(2,1)\\n       # robot.rotate(3,3)\\n       # robot.rotate(4,1)\\n        robot.translate(180-(count*3+90))\\n        count+=1\\n        \\nmain()\\n'"
      ]
     },
     "execution_count": 1,
     "metadata": {},
     "output_type": "execute_result"
    }
   ],
   "source": [
    "from vpython import*\n",
    "import math\n",
    "\n",
    "\n",
    "class inputs:\n",
    "    j1_length = 55.6\n",
    "    j1_width = 19.2\n",
    "    j1_height = 110\n",
    "    j2_length = 55.6\n",
    "    j2_width = 19.2\n",
    "    j2_height = 96.724\n",
    "\n",
    "class constants:\n",
    "    DEG_TO_RAD = 1/180*math.pi\n",
    "\n",
    "class joint:\n",
    "    def __init__(self, width, height, length, axis_color):\n",
    "        # A box is defined at the center. cyclinders are defined center of one end and so are arrows\n",
    "        ax = box(pos=vector(0,height/2,0),color=axis_color, width=width, height =height, length=length)\n",
    "        ax_head = cylinder(radius=width/2, color = color.yellow, length= length+0.1, pos=vector(-(length+0.1)/2,0,0))\n",
    "        ax_tail = cylinder(radius=width/2, color = color.orange, length= length+0.1, pos=vector(-(length+0.1)/2,height,0))\n",
    "        self.bone = arrow(pos=vector(0,0,0), axis=vector(0,height,0), shaftwidth = 30, headwidth = 50, visible=False)\n",
    "        self.axis = compound([ax,ax_head,ax_tail], origin=vector(0,0,0), axis=vector(height,0,0))\n",
    "        self.axis.tail_pos = self.axis.pos + vector(0,height,0)\n",
    "        \n",
    "    def rotate_axis(self, angle_deg):\n",
    "        self.axis.rotate(angle = angle_deg*constants.DEG_TO_RAD)\n",
    "        self.bone.rotate(angle = angle_deg*constants.DEG_TO_RAD, axis=vector(1,0,0))\n",
    "        self.update()\n",
    "        \n",
    "    def move_axis(self, new_pos : vector):\n",
    "        self.axis.pos = new_pos\n",
    "        self.bone.pos = new_pos\n",
    "        self.update()\n",
    "        \n",
    "    def update(self):\n",
    "        self.axis.tail_pos = self.axis.pos + self.bone.axis #vector(0,height,0)\n",
    "        \n",
    "        \n",
    "class axis:\n",
    "    def __init__(self, length):\n",
    "        self.yaxis = arrow(pos=vector(0,-length,0), axis=vector(0,length*2,0), shaftwidth=4, color=color.green, headwidth = 6) \n",
    "        self.xaxis = arrow(pos=vector(-length,0,0), axis=vector(length*2,0,0), shaftwidth=4, color=color.red, headwidth = 6)\n",
    "        self.zaxis = arrow(pos=vector(0,0,-length), axis=vector(0,0,length*2), shaftwidth=4, color=color.blue, headwidth = 6)\n",
    "\n",
    "class links:\n",
    "    def __init__(self, joints_arg : list):\n",
    "        self.joints = joints_arg\n",
    "        self.update_links()\n",
    "        \n",
    "    def ang_pos(self, x, y):\n",
    "        ang = math.atan(y/x)\n",
    "        r = x/math.cos(ang)\n",
    "        theta = math.degrees(math.acos((pow(inputs.j1_height,2)-pow(inputs.j2_height,2)+pow(r,2))/(2*inputs.j1_height*r)))\n",
    "        rho = math.degrees(math.acos((pow(inputs.j1_height,2)+pow(inputs.j2_height,2)-pow(r,2))/(2*inputs.j1_height*inputs.j2_height)))\n",
    "        # theta = math.degrees(math.acos(length1/inputs.j1_height))\n",
    "        # rho = math.degrees(math.atan(int(y)/int(x)))\n",
    "        return [theta, rho] \n",
    "        \n",
    "    def rotate(self, idx, angle_deg):\n",
    "        for i in range(idx-1, len(self.joints)):\n",
    "            self.joints[i].rotate_axis(angle_deg)\n",
    "        self.update_links()\n",
    "            \n",
    "    def update_links(self):\n",
    "        for i in range(0,len(self.joints)-1):\n",
    "            self.joints[i+1].move_axis(self.joints[i].axis.tail_pos)\n",
    "            \n",
    "    def translate(self,pos):\n",
    "        # 0 is defined to be world origin\n",
    "        self.joints[0].move_axis(vector(pos,0,0))\n",
    "    \n",
    "    def get_pos(self):\n",
    "        return self.joints[1].axis.tail_pos\n",
    "        \n",
    "    def reset(self):\n",
    "        translate(self,0)\n",
    "        \n",
    "        \n",
    "        #some work needed here. need to command joints to go to rotate to zero but \n",
    "        # dont know where they are in space.\n",
    "        # need to implement the absolute rotation system for this\n",
    "        \n",
    "       \n",
    "        \n",
    "        \n",
    "def main():\n",
    "    \n",
    "    scene = canvas(width=1000, height=670)\n",
    "    \n",
    "    j1 = joint(inputs.j1_width, inputs.j1_height, inputs.j1_length, color.red)\n",
    "    j2 = joint(inputs.j2_width, inputs.j2_height, inputs.j2_length, color.cyan)\n",
    "    #j3 = joint(inputs.j2_width, 30, inputs.j2_length, color.purple)\n",
    "    #j4 = joint(inputs.j2_width, 60, inputs.j2_length, color.white)\n",
    "    grid = axis(150)\n",
    "\n",
    "    # idx is 1 indexed to match j1 and j2\n",
    "    robot = links([j1,j2])\n",
    "\n",
    "    scene.center = vector(0,j2.axis.tail_pos.y/2,0)\n",
    "    scene.camera.pos = vector(50,0,50)\n",
    "    scene.forward = vector(-0.5,0,-0.5)\n",
    "    print(robot.joints[1].axis)\n",
    "    x_pos, y_pos = input(\"Enter a x-position and a y-position: \").split()\n",
    "    \n",
    "    angle1, angle2 = robot.ang_pos(int(x_pos),int(y_pos))\n",
    "    flat_angle = 180*constants.DEG_TO_RAD\n",
    "    flat_2 = 90*constants.DEG_TO_RAD\n",
    "    robot.rotate(1,(angle1))\n",
    "    sleep(2)\n",
    "    robot.rotate(2,-(flat_angle-angle2))\n",
    "    \"\"\"\n",
    "    count = 0\n",
    "    while(count < 90-angle1):\n",
    "        rate(30)\n",
    "        robot.rotate(1,1)\n",
    "        count+=1\n",
    "        \n",
    "    count1 = 0\n",
    "    while(count1 < angle2-angle1):\n",
    "        rate(30)\n",
    "        robot.rotate(2,1)\n",
    "        count1+=1\n",
    "    \"\"\"\n",
    "        \n",
    "    print(robot.get_pos())\n",
    "    sphere(pos = robot.get_pos(), radius=20)\n",
    "    sphere(pos = vector(0,100,100), radius=20)\n",
    "    print(angle1)\n",
    "    print(angle2)\n",
    "    \n",
    "main()\n",
    "\n",
    "\"\"\"    \n",
    "    count = 0\n",
    "    while(count < 90):\n",
    "        rate(30)\n",
    "        robot.rotate(1,1)\n",
    "        robot.rotate(2,1)\n",
    "       # robot.rotate(3,-1)\n",
    "        count+=1\n",
    "\n",
    "    count = 0\n",
    "    while(count < 90):\n",
    "        rate(30)\n",
    "        robot.rotate(1,-1)\n",
    "        robot.translate(count)\n",
    "        count+=1\n",
    "\n",
    "    count = 0\n",
    "    while(count < 45):\n",
    "        rate(30)\n",
    "        robot.rotate(2,1)\n",
    "       # robot.rotate(3,3)\n",
    "       # robot.rotate(4,1)\n",
    "        robot.translate(180-(count*3+90))\n",
    "        count+=1\n",
    "        \n",
    "main()\n",
    "\"\"\""
   ]
  },
  {
   "cell_type": "markdown",
   "id": "2c40123e",
   "metadata": {},
   "source": [
    "##### "
   ]
  },
  {
   "cell_type": "code",
   "execution_count": null,
   "id": "a592ae71",
   "metadata": {},
   "outputs": [],
   "source": []
  },
  {
   "cell_type": "code",
   "execution_count": null,
   "id": "64376414",
   "metadata": {},
   "outputs": [],
   "source": []
  },
  {
   "cell_type": "code",
   "execution_count": null,
   "id": "154d4e2d",
   "metadata": {},
   "outputs": [],
   "source": []
  },
  {
   "cell_type": "code",
   "execution_count": null,
   "id": "99c591db",
   "metadata": {},
   "outputs": [],
   "source": []
  }
 ],
 "metadata": {
  "kernelspec": {
   "display_name": "Python 3 (ipykernel)",
   "language": "python",
   "name": "python3"
  },
  "language_info": {
   "codemirror_mode": {
    "name": "ipython",
    "version": 3
   },
   "file_extension": ".py",
   "mimetype": "text/x-python",
   "name": "python",
   "nbconvert_exporter": "python",
   "pygments_lexer": "ipython3",
   "version": "3.9.2"
  }
 },
 "nbformat": 4,
 "nbformat_minor": 5
}
