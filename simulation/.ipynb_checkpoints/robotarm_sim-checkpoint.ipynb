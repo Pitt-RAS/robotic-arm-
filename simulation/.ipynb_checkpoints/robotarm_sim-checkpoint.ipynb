{
 "cells": [
  {
   "cell_type": "code",
   "execution_count": 9,
   "id": "2c25fa1f",
   "metadata": {},
   "outputs": [
    {
     "data": {
      "text/html": [
       "<div id=\"glowscript\" class=\"glowscript\"></div>"
      ],
      "text/plain": [
       "<IPython.core.display.HTML object>"
      ]
     },
     "metadata": {},
     "output_type": "display_data"
    },
    {
     "data": {
      "application/javascript": [
       "if (typeof Jupyter !== \"undefined\") { window.__context = { glowscript_container: $(\"#glowscript\").removeAttr(\"id\")};}else{ element.textContent = ' ';}"
      ],
      "text/plain": [
       "<IPython.core.display.Javascript object>"
      ]
     },
     "metadata": {},
     "output_type": "display_data"
    },
    {
     "ename": "NameError",
     "evalue": "name 'j3' is not defined",
     "output_type": "error",
     "traceback": [
      "\u001b[1;31m---------------------------------------------------------------------------\u001b[0m",
      "\u001b[1;31mNameError\u001b[0m                                 Traceback (most recent call last)",
      "Cell \u001b[1;32mIn [9], line 121\u001b[0m\n\u001b[0;32m    101\u001b[0m         count\u001b[38;5;241m+\u001b[39m\u001b[38;5;241m=\u001b[39m\u001b[38;5;241m1\u001b[39m\n\u001b[0;32m    103\u001b[0m \u001b[38;5;66;03m#     count = 0\u001b[39;00m\n\u001b[0;32m    104\u001b[0m \u001b[38;5;66;03m#     while(count < 90):\u001b[39;00m\n\u001b[0;32m    105\u001b[0m \u001b[38;5;66;03m#         rate(30)\u001b[39;00m\n\u001b[1;32m   (...)\u001b[0m\n\u001b[0;32m    116\u001b[0m \u001b[38;5;66;03m#         robot.translate(180-(count*3+90))\u001b[39;00m\n\u001b[0;32m    117\u001b[0m \u001b[38;5;66;03m#         count+=1\u001b[39;00m\n\u001b[1;32m--> 121\u001b[0m \u001b[43mmain\u001b[49m\u001b[43m(\u001b[49m\u001b[43m)\u001b[49m\n",
      "Cell \u001b[1;32mIn [9], line 88\u001b[0m, in \u001b[0;36mmain\u001b[1;34m()\u001b[0m\n\u001b[0;32m     84\u001b[0m     \u001b[38;5;66;03m# idx is 1 indexed to match j1 and j2\u001b[39;00m\n\u001b[0;32m     85\u001b[0m \u001b[38;5;66;03m#     robot = links([j1,j2,j3,j4])\u001b[39;00m\n\u001b[0;32m     86\u001b[0m     robot \u001b[38;5;241m=\u001b[39m links([j1,j2])\n\u001b[1;32m---> 88\u001b[0m     scene\u001b[38;5;241m.\u001b[39mcenter \u001b[38;5;241m=\u001b[39m vector(\u001b[38;5;241m0\u001b[39m,\u001b[43mj3\u001b[49m\u001b[38;5;241m.\u001b[39maxis\u001b[38;5;241m.\u001b[39mtail_pos\u001b[38;5;241m.\u001b[39my\u001b[38;5;241m/\u001b[39m\u001b[38;5;241m2\u001b[39m,\u001b[38;5;241m0\u001b[39m)\n\u001b[0;32m     89\u001b[0m     scene\u001b[38;5;241m.\u001b[39mcamera\u001b[38;5;241m.\u001b[39mpos \u001b[38;5;241m=\u001b[39m vector(\u001b[38;5;241m50\u001b[39m,\u001b[38;5;241m0\u001b[39m,\u001b[38;5;241m50\u001b[39m)\n\u001b[0;32m     90\u001b[0m     scene\u001b[38;5;241m.\u001b[39mforward \u001b[38;5;241m=\u001b[39m vector(\u001b[38;5;241m-\u001b[39m\u001b[38;5;241m0.5\u001b[39m,\u001b[38;5;241m0\u001b[39m,\u001b[38;5;241m-\u001b[39m\u001b[38;5;241m0.5\u001b[39m)\n",
      "\u001b[1;31mNameError\u001b[0m: name 'j3' is not defined"
     ]
    }
   ],
   "source": [
    "from vpython import*\n",
    "import math\n",
    "\n",
    "\n",
    "class inputs:\n",
    "    j1_length = 55.6\n",
    "    j1_width = 19.2\n",
    "    j1_height = 110\n",
    "    j2_length = 55.6\n",
    "    j2_width = 19.2\n",
    "    j2_height = 96.724\n",
    "\n",
    "class constants:\n",
    "    DEG_TO_RAD = 1/180*math.pi\n",
    "\n",
    "class joint:\n",
    "    def __init__(self, width, height, length, axis_color):\n",
    "        # A box is defined at the center. cyclinders are defined center of one end and so are arrows\n",
    "        ax = box(pos=vector(0,height/2,0),color=axis_color, width=width, height =height, length=length)\n",
    "        ax_head = cylinder(radius=width/2, color = color.yellow, length= length+0.1, pos=vector(-(length+0.1)/2,0,0))\n",
    "        ax_tail = cylinder(radius=width/2, color = color.orange, length= length+0.1, pos=vector(-(length+0.1)/2,height,0))\n",
    "        self.bone = arrow(pos=vector(0,0,0), axis=vector(0,height,0), shaftwidth = 30, headwidth = 50, visible=False)\n",
    "        self.axis = compound([ax,ax_head,ax_tail], origin=vector(0,0,0), axis=vector(height,0,0))\n",
    "        self.axis.tail_pos = self.axis.pos + vector(0,height,0)\n",
    "        \n",
    "    def update(self):\n",
    "        self.axis.tail_pos = self.axis.pos + self.bone.axis\n",
    "        \n",
    "    def rotate_axis(self, angle_deg):\n",
    "        self.axis.rotate(angle_deg*constants.DEG_TO_RAD)\n",
    "        self.bone.rotate(angle_deg*constants.DEG_TO_RAD, axis=vector(1,0,0))\n",
    "        self.update()\n",
    "        \n",
    "    def move_axis(self, new_pos : vector):\n",
    "        self.axis.pos = new_pos\n",
    "        self.bone.pos = new_pos\n",
    "        self.update()\n",
    "        \n",
    "        \n",
    "class axis:\n",
    "    def __init__(self, length):\n",
    "        self.yaxis = arrow(pos=vector(0,-length,0), axis=vector(0, length*2,0), shaftwidth=4, color=color.green, headwidth = 6) \n",
    "        self.xaxis = arrow(pos=vector(-length,0,0), axis=vector(length*2,0,0), shaftwidth=4, color=color.red, headwidth = 6)\n",
    "        self.zaxis = arrow(pos=vector(0,0,-length), axis=vector(0,0,length*2), shaftwidth=4, color=color.blue, headwidth = 6)\n",
    "\n",
    "class links:\n",
    "    def __init__(self, joints_arg : list):\n",
    "        self.joints = joints_arg\n",
    "        self.update_links()\n",
    "        \n",
    "    def rotate(self, idx, angle_deg):\n",
    "        for i in range(idx-1, len(self.joints)):\n",
    "            self.joints[i].rotate_axis(angle_deg)\n",
    "#         self.joints[idx-1].rotate_axis(angle_deg)\n",
    "        self.update_links()\n",
    "            \n",
    "    def update_links(self):\n",
    "        for i in range(0,len(self.joints)-1):\n",
    "            self.joints[i+1].move_axis(self.joints[i].axis.tail_pos)\n",
    "            \n",
    "    def translate(self,pos):\n",
    "        # 0 is defined to be world origin\n",
    "        self.joints[0].move_axis(vector(pos,0,0))\n",
    "        \n",
    "    def reset(self):\n",
    "        translate(self,0)\n",
    "        #some work needed here. need to command joints to go to rotate to zero but \n",
    "        # dont know where they are in space.\n",
    "        # need to implement the absolute rotation system for this\n",
    "        \n",
    "        \n",
    "        \n",
    "        \n",
    "def main():\n",
    "    \n",
    "    scene = canvas(width=1000, height=670)\n",
    "    \n",
    "    j1 = joint(inputs.j1_width, inputs.j1_height, inputs.j1_length, color.red)\n",
    "    j2 = joint(inputs.j2_width, inputs.j2_height, inputs.j2_length, color.cyan)\n",
    "#     j3 = joint(inputs.j2_width, 30, inputs.j2_length, color.purple)\n",
    "#     j4 = joint(inputs.j2_width, 60, inputs.j2_length, color.white)\n",
    "    grid = axis(150)\n",
    "\n",
    "    # idx is 1 indexed to match j1 and j2\n",
    "#     robot = links([j1,j2,j3,j4])\n",
    "    robot = links([j1,j2])\n",
    "\n",
    "    scene.center = vector(0,j2.axis.tail_pos.y/2,0)\n",
    "    scene.camera.pos = vector(50,0,50)\n",
    "    scene.forward = vector(-0.5,0,-0.5)\n",
    "\n",
    "    sleep(3)\n",
    "\n",
    "\n",
    "    count = 0\n",
    "    while(count < 90):\n",
    "        rate(30)\n",
    "        robot.rotate(1,1)\n",
    "#         robot.rotate(2,1)\n",
    "#         robot.rotate(3,-1)\n",
    "        count+=1\n",
    "\n",
    "#     count = 0\n",
    "#     while(count < 90):\n",
    "#         rate(30)\n",
    "#         robot.rotate(1,-1)\n",
    "#         robot.translate(count)\n",
    "#         count+=1\n",
    "\n",
    "#     count = 0\n",
    "#     while(count < 45):\n",
    "#         rate(30)\n",
    "#         robot.rotate(2,1)\n",
    "#         robot.rotate(3,3)\n",
    "#         robot.rotate(4,1)\n",
    "#         robot.translate(180-(count*3+90))\n",
    "#         count+=1\n",
    "        \n",
    "    \n",
    "    \n",
    "main()\n",
    "\n",
    "        \n",
    "    "
   ]
  }
 ],
 "metadata": {
  "kernelspec": {
   "display_name": "Python 3 (ipykernel)",
   "language": "python",
   "name": "python3"
  },
  "language_info": {
   "codemirror_mode": {
    "name": "ipython",
    "version": 3
   },
   "file_extension": ".py",
   "mimetype": "text/x-python",
   "name": "python",
   "nbconvert_exporter": "python",
   "pygments_lexer": "ipython3",
   "version": "3.9.2"
  }
 },
 "nbformat": 4,
 "nbformat_minor": 5
}
