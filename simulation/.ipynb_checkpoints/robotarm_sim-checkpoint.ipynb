{
 "cells": [
  {
   "cell_type": "code",
   "execution_count": 27,
   "id": "2c25fa1f",
   "metadata": {},
   "outputs": [
    {
     "data": {
      "text/html": [
       "<div id=\"glowscript\" class=\"glowscript\"></div>"
      ],
      "text/plain": [
       "<IPython.core.display.HTML object>"
      ]
     },
     "metadata": {},
     "output_type": "display_data"
    },
    {
     "data": {
      "application/javascript": [
       "if (typeof Jupyter !== \"undefined\") { window.__context = { glowscript_container: $(\"#glowscript\").removeAttr(\"id\")};}else{ element.textContent = ' ';}"
      ],
      "text/plain": [
       "<IPython.core.display.Javascript object>"
      ]
     },
     "metadata": {},
     "output_type": "display_data"
    }
   ],
   "source": [
    "from vpython import*\n",
    "import math\n",
    "\n",
    "\n",
    "class inputs:\n",
    "    j1_length = 55.6\n",
    "    j1_width = 19.2\n",
    "    j1_height = 110\n",
    "    j2_length = 55.6\n",
    "    j2_width = 19.2\n",
    "    j2_height = 96.724\n",
    "\n",
    "class constants:\n",
    "    DEG_TO_RAD = 1/180*math.pi\n",
    "\n",
    "class joint:\n",
    "    def __init__(self, width, height, length, axis_color):\n",
    "        # A box is defined at the center. cyclinders are defined center of one end.\n",
    "        ax = box(pos=vector(0,height/2,0),color=axis_color, width=width, height =height, length=length)\n",
    "        ax_head = cylinder(radius=width/2, color = color.yellow, length= length+0.1, pos=vector(-(length+0.1)/2,0,0))\n",
    "        ax_tail = cylinder(radius=width/2, color = color.orange, length= length+0.1, pos=vector(-(length+0.1)/2,height,0))\n",
    "        self.bone = arrow(pos=vector(0,0,0), axis=vector(0,height,0), shaftwidth = 30, headwidth = 50, visible=False)\n",
    "        self.axis = compound([ax,ax_head,ax_tail], origin=vector(0,0,0), axis=vector(height,0,0))\n",
    "        self.axis.tail_pos = self.axis.pos + vector(0,height,0)\n",
    "        \n",
    "    def update(self):\n",
    "        self.axis.tail_pos = self.axis.pos + self.bone.axis\n",
    "        \n",
    "    def rotate_axis(self, angle_deg):\n",
    "        self.axis.rotate(angle_deg*constants.DEG_TO_RAD)\n",
    "        self.bone.rotate(angle_deg*constants.DEG_TO_RAD, axis=vector(1,0,0))\n",
    "        self.update()\n",
    "        \n",
    "    def move_axis(self, new_pos : vector):\n",
    "        self.axis.pos = new_pos\n",
    "        self.bone.pos = new_pos\n",
    "        self.update()\n",
    "        \n",
    "        \n",
    "class axis:\n",
    "    def __init__(self, length):\n",
    "        self.yaxis = arrow(pos=vector(0,-length,0), axis=vector(0, length*2,0), shaftwidth=4, color=color.green, headwidth = 6) \n",
    "        self.xaxis = arrow(pos=vector(-length,0,0), axis=vector(length*2,0,0), shaftwidth=4, color=color.red, headwidth = 6)\n",
    "        self.zaxis = arrow(pos=vector(0,0,-length), axis=vector(0,0,length*2), shaftwidth=4, color=color.blue, headwidth = 6)\n",
    "\n",
    "class links:\n",
    "    def __init__(self, joints_arg : list):\n",
    "        self.joints = joints_arg\n",
    "        self.update_links()\n",
    "        \n",
    "    def rotate(self, idx, angle_deg):\n",
    "        for i in range(idx-1, len(self.joints)):\n",
    "            self.joints[i].rotate_axis(angle_deg)\n",
    "        self.update_links()\n",
    "            \n",
    "    def update_links(self):\n",
    "        for i in range(0,len(self.joints)-1):\n",
    "            self.joints[i+1].move_axis(self.joints[i].axis.tail_pos)\n",
    "            \n",
    "    def translate(self,pos):\n",
    "        # 0 is defined to be world origin\n",
    "        self.joints[0].move_axis(vector(pos,0,0))\n",
    "        \n",
    "        \n",
    "def main():\n",
    "    \n",
    "    scene = canvas(width=1000, height=670)\n",
    "    \n",
    "    j1 = joint(inputs.j1_width, inputs.j1_height, inputs.j1_length, color.red)\n",
    "    j2 = joint(inputs.j2_width, inputs.j2_height, inputs.j2_length, color.cyan)\n",
    "    j3 = joint(inputs.j2_width, 30, inputs.j2_length, color.purple)\n",
    "    j4 = joint(inputs.j2_width, 60, inputs.j2_length, color.white)\n",
    "    grid = axis(150)\n",
    "    \n",
    "    # idx is 1 indexed to match j1 and j2\n",
    "    robot = links([j1,j2,j3,j4])\n",
    "    \n",
    "    scene.center = vector(0,j3.axis.tail_pos.y/2,0)\n",
    "    scene.camera.pos = vector(50,0,50)\n",
    "    scene.forward = vector(-0.5,0,-0.5)\n",
    "    \n",
    "    sleep(3)\n",
    "    \n",
    "    count = 0\n",
    "    while(count < 90):\n",
    "        rate(30)\n",
    "        robot.rotate(1,1)\n",
    "        robot.rotate(2,1)\n",
    "        robot.rotate(3,-1)\n",
    "        count+=1\n",
    "        \n",
    "    count = 0\n",
    "    while(count < 90):\n",
    "        rate(30)\n",
    "        robot.rotate(1,-1)\n",
    "        robot.translate(count)\n",
    "        count+=1\n",
    "    \n",
    "    count = 0\n",
    "    while(count < 45):\n",
    "        rate(30)\n",
    "        robot.rotate(2,1)\n",
    "        robot.rotate(3,3)\n",
    "        robot.rotate(4,-1)\n",
    "        robot.translate(180-(count*3+90))\n",
    "        count+=1\n",
    "    \n",
    "main()\n",
    "\n",
    "        \n",
    "    "
   ]
  },
  {
   "cell_type": "code",
   "execution_count": null,
   "id": "c9794ad2",
   "metadata": {},
   "outputs": [],
   "source": []
  }
 ],
 "metadata": {
  "kernelspec": {
   "display_name": "Python 3 (ipykernel)",
   "language": "python",
   "name": "python3"
  },
  "language_info": {
   "codemirror_mode": {
    "name": "ipython",
    "version": 3
   },
   "file_extension": ".py",
   "mimetype": "text/x-python",
   "name": "python",
   "nbconvert_exporter": "python",
   "pygments_lexer": "ipython3",
   "version": "3.9.2"
  }
 },
 "nbformat": 4,
 "nbformat_minor": 5
}
